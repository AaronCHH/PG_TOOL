{
 "cells": [
  {
   "cell_type": "code",
   "execution_count": 1,
   "metadata": {
    "collapsed": true
   },
   "outputs": [],
   "source": [
    "import os, sys"
   ]
  },
  {
   "cell_type": "markdown",
   "metadata": {},
   "source": [
    "### Check how many chapters there are?"
   ]
  },
  {
   "cell_type": "code",
   "execution_count": 15,
   "metadata": {
    "collapsed": false,
    "scrolled": true
   },
   "outputs": [
    {
     "name": "stdout",
     "output_type": "stream",
     "text": [
      "7\n"
     ]
    }
   ],
   "source": [
    "i = 0\n",
    "with open('data.txt', 'r', encoding='utf-8') as f:\n",
    "    for line in f:\n",
    "        if line.strip() != '': # deal with empty line\n",
    "            if line.strip().split()[0] == 'Chapter': # count chapters base on 'Chapter'\n",
    "                i += 1 \n",
    "print(i)                "
   ]
  },
  {
   "cell_type": "markdown",
   "metadata": {},
   "source": [
    "### Split file by chapters"
   ]
  },
  {
   "cell_type": "code",
   "execution_count": 20,
   "metadata": {
    "collapsed": false
   },
   "outputs": [],
   "source": [
    "with open('data.txt', 'r', encoding='utf-8') as f:\n",
    "    for i in range(7):\n",
    "        with open('ch'+str(i)+'.txt', 'a') as of: # open output file in append mode\n",
    "            for line in f:\n",
    "                if line.strip() != '': # if not empty line, write to file\n",
    "                    of.write(line)\n",
    "                else: # break and proceed to next file\n",
    "                    i += 1\n",
    "                    break"
   ]
  },
  {
   "cell_type": "markdown",
   "metadata": {},
   "source": [
    "### Try another way"
   ]
  },
  {
   "cell_type": "code",
   "execution_count": 9,
   "metadata": {
    "collapsed": false
   },
   "outputs": [],
   "source": [
    "i = 1\n",
    "with open('data.txt', 'r', encoding='utf-8') as f:\n",
    "    for line in f: # check line by line\n",
    "        with open('ch'+str(i)+'.txt', 'a') as of: # open output file in append mode\n",
    "            if line.strip() != '' and line.strip().split()[0] == 'Chapter': # found 'Chapter', write to file\n",
    "#                 print(line.strip())\n",
    "                of.write(line)\n",
    "            elif line.strip() != '': # found non-empty line, write to file\n",
    "#                 print(line.strip())\n",
    "                of.write(line)\n",
    "            else: # i++\n",
    "                i += 1                "
   ]
  },
  {
   "cell_type": "markdown",
   "metadata": {},
   "source": [
    "### Ver3"
   ]
  },
  {
   "cell_type": "code",
   "execution_count": 30,
   "metadata": {
    "collapsed": false
   },
   "outputs": [],
   "source": [
    "i = 0 # flag\n",
    "with open('data.txt', 'r', encoding='utf-8') as f:\n",
    "    for line in f: # check line by line\n",
    "        if line.strip() != '' and line.strip().split()[0] == 'Chapter': # found 'Chapter', create file, write to file\n",
    "            i += 1\n",
    "            with open('ch'+str(i)+'.txt', 'w') as of: # open output file in append mode\n",
    "                of.write(line)        \n",
    "        else: # not 'Chapter', write to file\n",
    "            with open('ch'+str(i)+'.txt', 'a') as of: # open output file in append mode\n",
    "                of.write(line)        "
   ]
  },
  {
   "cell_type": "code",
   "execution_count": null,
   "metadata": {
    "collapsed": true
   },
   "outputs": [],
   "source": []
  }
 ],
 "metadata": {
  "anaconda-cloud": {},
  "kernelspec": {
   "display_name": "Python [default]",
   "language": "python",
   "name": "python3"
  },
  "language_info": {
   "codemirror_mode": {
    "name": "ipython",
    "version": 3
   },
   "file_extension": ".py",
   "mimetype": "text/x-python",
   "name": "python",
   "nbconvert_exporter": "python",
   "pygments_lexer": "ipython3",
   "version": "3.5.2"
  }
 },
 "nbformat": 4,
 "nbformat_minor": 1
}
