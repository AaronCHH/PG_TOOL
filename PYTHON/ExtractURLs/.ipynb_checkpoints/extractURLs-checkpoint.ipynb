{
 "cells": [
  {
   "cell_type": "code",
   "execution_count": 16,
   "metadata": {
    "collapsed": true
   },
   "outputs": [],
   "source": [
    "import sys, os"
   ]
  },
  {
   "cell_type": "code",
   "execution_count": 17,
   "metadata": {
    "collapsed": false
   },
   "outputs": [
    {
     "data": {
      "text/plain": [
       "'D:\\\\GoogleDrive\\\\USER\\\\Desktop\\\\VBScript'"
      ]
     },
     "execution_count": 17,
     "metadata": {},
     "output_type": "execute_result"
    }
   ],
   "source": [
    "os.getcwd()"
   ]
  },
  {
   "cell_type": "code",
   "execution_count": 18,
   "metadata": {
    "collapsed": false
   },
   "outputs": [
    {
     "data": {
      "text/plain": [
       "['.ipynb_checkpoints',\n",
       " 'Better Than Batch A Windows Scripting Host Tutorial.URL',\n",
       " 'Programming the WshShell Object Programming the Windows Script Host InformIT.URL',\n",
       " 'readUrl.ipynb',\n",
       " 'Scripting Your First Steps.URL',\n",
       " 'Shell Objects for Scripting and Microsoft Visual Basic (Windows).URL',\n",
       " 'SublimeText-VBScript- VBScript package for Sublime Text.url',\n",
       " 'VBScript - Wikipedia, the free encyclopedia.URL',\n",
       " 'Windows Script Host - Wikipedia, the free encyclopedia.URL',\n",
       " 'Windows Scripting.URL']"
      ]
     },
     "execution_count": 18,
     "metadata": {},
     "output_type": "execute_result"
    }
   ],
   "source": [
    "#  List files\n",
    "os.listdir('./')"
   ]
  },
  {
   "cell_type": "code",
   "execution_count": 19,
   "metadata": {
    "collapsed": false
   },
   "outputs": [
    {
     "data": {
      "text/plain": [
       "'Better Than Batch A Windows Scripting Host Tutorial.URL'"
      ]
     },
     "execution_count": 19,
     "metadata": {},
     "output_type": "execute_result"
    }
   ],
   "source": [
    "# List files\n",
    "os.listdir('./')[1]"
   ]
  },
  {
   "cell_type": "markdown",
   "metadata": {},
   "source": [
    "## V1"
   ]
  },
  {
   "cell_type": "code",
   "execution_count": 24,
   "metadata": {
    "collapsed": false,
    "scrolled": true
   },
   "outputs": [
    {
     "name": "stdout",
     "output_type": "stream",
     "text": [
      "Better Than Batch A Windows Scripting Host Tutorial.URL\n",
      "Programming the WshShell Object Programming the Windows Script Host InformIT.URL\n",
      "Scripting Your First Steps.URL\n",
      "Shell Objects for Scripting and Microsoft Visual Basic (Windows).URL\n",
      "SublimeText-VBScript- VBScript package for Sublime Text.url\n",
      "VBScript - Wikipedia, the free encyclopedia.URL\n",
      "Windows Script Host - Wikipedia, the free encyclopedia.URL\n",
      "Windows Scripting.URL\n"
     ]
    }
   ],
   "source": [
    "# Find the files end with *.url\n",
    "for f in os.listdir(\"./\"):\n",
    "    if f.endswith(\".url\") or f.endswith(\".URL\"):\n",
    "        print(f)"
   ]
  },
  {
   "cell_type": "markdown",
   "metadata": {},
   "source": [
    "## V2"
   ]
  },
  {
   "cell_type": "code",
   "execution_count": 38,
   "metadata": {
    "collapsed": false,
    "scrolled": false
   },
   "outputs": [
    {
     "data": {
      "text/plain": [
       "['Better Than Batch A Windows Scripting Host Tutorial.URL',\n",
       " 'Programming the WshShell Object Programming the Windows Script Host InformIT.URL',\n",
       " 'Scripting Your First Steps.URL',\n",
       " 'Shell Objects for Scripting and Microsoft Visual Basic (Windows).URL',\n",
       " 'SublimeText-VBScript- VBScript package for Sublime Text.url',\n",
       " 'VBScript - Wikipedia, the free encyclopedia.URL',\n",
       " 'Windows Script Host - Wikipedia, the free encyclopedia.URL',\n",
       " 'Windows Scripting.URL']"
      ]
     },
     "execution_count": 38,
     "metadata": {},
     "output_type": "execute_result"
    }
   ],
   "source": [
    "# Find the files end with *.url\n",
    "files = [f for f in os.listdir(\"./\") if f.endswith(\".url\") or f.endswith(\".URL\")]\n",
    "files"
   ]
  },
  {
   "cell_type": "code",
   "execution_count": 41,
   "metadata": {
    "collapsed": false
   },
   "outputs": [
    {
     "data": {
      "text/plain": [
       "8"
      ]
     },
     "execution_count": 41,
     "metadata": {},
     "output_type": "execute_result"
    }
   ],
   "source": [
    "len(files)"
   ]
  },
  {
   "cell_type": "code",
   "execution_count": 39,
   "metadata": {
    "collapsed": true
   },
   "outputs": [],
   "source": [
    "fout = open('urlList1.txt', 'w+')"
   ]
  },
  {
   "cell_type": "code",
   "execution_count": 40,
   "metadata": {
    "collapsed": false
   },
   "outputs": [],
   "source": [
    "with open(files[1]) as f:\n",
    "    line = f.readline()\n",
    "    line2 = f.readline()\n",
    "\n",
    "# print(line2[4:])\n",
    "fout.write(line2[4:])\n",
    "fout.close()"
   ]
  },
  {
   "cell_type": "markdown",
   "metadata": {},
   "source": [
    "# V3"
   ]
  },
  {
   "cell_type": "code",
   "execution_count": 72,
   "metadata": {
    "collapsed": false,
    "scrolled": false
   },
   "outputs": [
    {
     "data": {
      "text/plain": [
       "['Better Than Batch A Windows Scripting Host Tutorial.URL',\n",
       " 'Programming the WshShell Object Programming the Windows Script Host InformIT.URL',\n",
       " 'Scripting Your First Steps.URL',\n",
       " 'Shell Objects for Scripting and Microsoft Visual Basic (Windows).URL',\n",
       " 'SublimeText-VBScript- VBScript package for Sublime Text.url',\n",
       " 'VBScript - Wikipedia, the free encyclopedia.URL',\n",
       " 'Windows Script Host - Wikipedia, the free encyclopedia.URL',\n",
       " 'Windows Scripting.URL']"
      ]
     },
     "execution_count": 72,
     "metadata": {},
     "output_type": "execute_result"
    }
   ],
   "source": [
    "# Find the files end with *.url\n",
    "files = [f for f in os.listdir(\"./\") if f.endswith(\".url\") or f.endswith(\".URL\")]\n",
    "files"
   ]
  },
  {
   "cell_type": "code",
   "execution_count": 73,
   "metadata": {
    "collapsed": true
   },
   "outputs": [],
   "source": [
    "fout = open('urlList2.txt', 'w+')"
   ]
  },
  {
   "cell_type": "code",
   "execution_count": 74,
   "metadata": {
    "collapsed": false
   },
   "outputs": [],
   "source": [
    "for i in range(len(files)):\n",
    "    with open(files[i]) as f:\n",
    "        line = f.readline().strip()\n",
    "        line2 = f.readline().strip()\n",
    "\n",
    "    fout.write(files[i][:-4] + ' [link](' + line2[4:] + ')' + '\\n')   \n",
    "fout.close()"
   ]
  },
  {
   "cell_type": "code",
   "execution_count": null,
   "metadata": {
    "collapsed": true
   },
   "outputs": [],
   "source": []
  }
 ],
 "metadata": {
  "anaconda-cloud": {},
  "kernelspec": {
   "display_name": "Python [conda root]",
   "language": "python",
   "name": "conda-root-py"
  },
  "language_info": {
   "codemirror_mode": {
    "name": "ipython",
    "version": 2
   },
   "file_extension": ".py",
   "mimetype": "text/x-python",
   "name": "python",
   "nbconvert_exporter": "python",
   "pygments_lexer": "ipython2",
   "version": "2.7.12"
  }
 },
 "nbformat": 4,
 "nbformat_minor": 1
}
