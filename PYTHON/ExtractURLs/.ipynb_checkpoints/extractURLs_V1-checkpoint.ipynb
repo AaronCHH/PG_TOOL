{
 "cells": [
  {
   "cell_type": "code",
   "execution_count": 4,
   "metadata": {
    "collapsed": false
   },
   "outputs": [],
   "source": [
    "import sys, os\n",
    "\n",
    "# Find the files end with *.url\n",
    "files = [f for f in os.listdir(\"./URLS\") if f.endswith(\".url\") or f.endswith(\".URL\")]\n",
    "# files\n",
    "\n",
    "# Open output file\n",
    "fout = open('urlList2.txt', 'w+')\n",
    "\n",
    "# Write urls into output file\n",
    "for i in range(len(files)):\n",
    "    with open(\"./URLS/\" + files[i]) as f:\n",
    "        line = f.readline().strip()\n",
    "        line2 = f.readline().strip()\n",
    "    fout.write(files[i][:-4] + ' [link](' + line2[4:] + ')' + '\\n')   \n",
    "\n",
    "# Close output file    \n",
    "fout.close()"
   ]
  },
  {
   "cell_type": "code",
   "execution_count": null,
   "metadata": {
    "collapsed": true
   },
   "outputs": [],
   "source": []
  }
 ],
 "metadata": {
  "anaconda-cloud": {},
  "kernelspec": {
   "display_name": "Python [conda root]",
   "language": "python",
   "name": "conda-root-py"
  },
  "language_info": {
   "codemirror_mode": {
    "name": "ipython",
    "version": 2
   },
   "file_extension": ".py",
   "mimetype": "text/x-python",
   "name": "python",
   "nbconvert_exporter": "python",
   "pygments_lexer": "ipython2",
   "version": "2.7.12"
  }
 },
 "nbformat": 4,
 "nbformat_minor": 1
}
